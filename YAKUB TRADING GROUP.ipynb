{
 "cells": [
  {
   "cell_type": "markdown",
   "metadata": {},
   "source": [
    "**CASE STUDY: YAKUB TRADING GROUP - ALGORITHMIC STAFF PROMOTION**\n",
    "\n",
    "Abdullah’s Baba Yakub, 38, is the heir apparent to the highly revered Yakub business dynasty. The enterprise has spanned decades with vast investment interest in all the various sectors of the economy.\n",
    "\n",
    "Abdullah has worked for 16 years in Europe and America after his first and second degrees at Harvard University where he studied Engineering and Business Management. He is a very experienced technocrat and a global business leader who rose through the rank to become a Senior Vice President at a leading US business conglomerate.\n",
    "His dad is now 70 and has invited him to take over the company with a mandate to take it to the next level of growth as a sustainable legacy. Abdullah is trusted by his father and his siblings to lead this mandate.\n",
    "\n",
    "On resumption, he had an open house with the staff to share his vision and to listen to them on how to take the business to the next level. Beyond the general operational issues and increasing need for regulatory compliance, one of the issues raised by the staff was a general concern on the process of staff promotion. Many of the staff allege that it is skewed and biased. Abdullah understood the concern and promised to address it in a most scientific way.\n",
    "\n",
    "You have been called in by Abdullah to use your machine learning skills to study the pattern of promotion. With this insight, he can understand the important features among available features that can be used to predict promotion eligibility."
   ]
  },
  {
   "cell_type": "code",
   "execution_count": 1,
   "metadata": {},
   "outputs": [],
   "source": [
    "import numpy as np\n",
    "import pandas as pd"
   ]
  },
  {
   "cell_type": "code",
   "execution_count": 2,
   "metadata": {},
   "outputs": [
    {
     "data": {
      "text/html": [
       "<div>\n",
       "<style scoped>\n",
       "    .dataframe tbody tr th:only-of-type {\n",
       "        vertical-align: middle;\n",
       "    }\n",
       "\n",
       "    .dataframe tbody tr th {\n",
       "        vertical-align: top;\n",
       "    }\n",
       "\n",
       "    .dataframe thead th {\n",
       "        text-align: right;\n",
       "    }\n",
       "</style>\n",
       "<table border=\"1\" class=\"dataframe\">\n",
       "  <thead>\n",
       "    <tr style=\"text-align: right;\">\n",
       "      <th></th>\n",
       "      <th>EmployeeNo</th>\n",
       "      <th>Division</th>\n",
       "      <th>Qualification</th>\n",
       "      <th>Gender</th>\n",
       "      <th>Channel_of_Recruitment</th>\n",
       "      <th>Trainings_Attended</th>\n",
       "      <th>Year_of_birth</th>\n",
       "      <th>Last_performance_score</th>\n",
       "      <th>Year_of_recruitment</th>\n",
       "      <th>Targets_met</th>\n",
       "      <th>Previous_Award</th>\n",
       "      <th>Training_score_average</th>\n",
       "      <th>State_Of_Origin</th>\n",
       "      <th>Foreign_schooled</th>\n",
       "      <th>Marital_Status</th>\n",
       "      <th>Past_Disciplinary_Action</th>\n",
       "      <th>Previous_IntraDepartmental_Movement</th>\n",
       "      <th>No_of_previous_employers</th>\n",
       "      <th>Promoted_or_Not</th>\n",
       "    </tr>\n",
       "  </thead>\n",
       "  <tbody>\n",
       "    <tr>\n",
       "      <th>0</th>\n",
       "      <td>YAK/S/00001</td>\n",
       "      <td>Commercial Sales and Marketing</td>\n",
       "      <td>MSc, MBA and PhD</td>\n",
       "      <td>Female</td>\n",
       "      <td>Direct Internal process</td>\n",
       "      <td>2</td>\n",
       "      <td>1986</td>\n",
       "      <td>12.5</td>\n",
       "      <td>2011</td>\n",
       "      <td>1</td>\n",
       "      <td>0</td>\n",
       "      <td>41</td>\n",
       "      <td>ANAMBRA</td>\n",
       "      <td>No</td>\n",
       "      <td>Married</td>\n",
       "      <td>No</td>\n",
       "      <td>No</td>\n",
       "      <td>0</td>\n",
       "      <td>0</td>\n",
       "    </tr>\n",
       "    <tr>\n",
       "      <th>1</th>\n",
       "      <td>YAK/S/00002</td>\n",
       "      <td>Customer Support and Field Operations</td>\n",
       "      <td>First Degree or HND</td>\n",
       "      <td>Male</td>\n",
       "      <td>Agency and others</td>\n",
       "      <td>2</td>\n",
       "      <td>1991</td>\n",
       "      <td>12.5</td>\n",
       "      <td>2015</td>\n",
       "      <td>0</td>\n",
       "      <td>0</td>\n",
       "      <td>52</td>\n",
       "      <td>ANAMBRA</td>\n",
       "      <td>Yes</td>\n",
       "      <td>Married</td>\n",
       "      <td>No</td>\n",
       "      <td>No</td>\n",
       "      <td>0</td>\n",
       "      <td>0</td>\n",
       "    </tr>\n",
       "    <tr>\n",
       "      <th>2</th>\n",
       "      <td>YAK/S/00003</td>\n",
       "      <td>Commercial Sales and Marketing</td>\n",
       "      <td>First Degree or HND</td>\n",
       "      <td>Male</td>\n",
       "      <td>Direct Internal process</td>\n",
       "      <td>2</td>\n",
       "      <td>1987</td>\n",
       "      <td>7.5</td>\n",
       "      <td>2012</td>\n",
       "      <td>0</td>\n",
       "      <td>0</td>\n",
       "      <td>42</td>\n",
       "      <td>KATSINA</td>\n",
       "      <td>Yes</td>\n",
       "      <td>Married</td>\n",
       "      <td>No</td>\n",
       "      <td>No</td>\n",
       "      <td>0</td>\n",
       "      <td>0</td>\n",
       "    </tr>\n",
       "    <tr>\n",
       "      <th>3</th>\n",
       "      <td>YAK/S/00004</td>\n",
       "      <td>Commercial Sales and Marketing</td>\n",
       "      <td>First Degree or HND</td>\n",
       "      <td>Male</td>\n",
       "      <td>Agency and others</td>\n",
       "      <td>3</td>\n",
       "      <td>1982</td>\n",
       "      <td>2.5</td>\n",
       "      <td>2009</td>\n",
       "      <td>0</td>\n",
       "      <td>0</td>\n",
       "      <td>42</td>\n",
       "      <td>NIGER</td>\n",
       "      <td>Yes</td>\n",
       "      <td>Single</td>\n",
       "      <td>No</td>\n",
       "      <td>No</td>\n",
       "      <td>1</td>\n",
       "      <td>0</td>\n",
       "    </tr>\n",
       "    <tr>\n",
       "      <th>4</th>\n",
       "      <td>YAK/S/00006</td>\n",
       "      <td>Information and Strategy</td>\n",
       "      <td>First Degree or HND</td>\n",
       "      <td>Male</td>\n",
       "      <td>Direct Internal process</td>\n",
       "      <td>3</td>\n",
       "      <td>1990</td>\n",
       "      <td>7.5</td>\n",
       "      <td>2012</td>\n",
       "      <td>0</td>\n",
       "      <td>0</td>\n",
       "      <td>77</td>\n",
       "      <td>AKWA IBOM</td>\n",
       "      <td>Yes</td>\n",
       "      <td>Married</td>\n",
       "      <td>No</td>\n",
       "      <td>No</td>\n",
       "      <td>1</td>\n",
       "      <td>0</td>\n",
       "    </tr>\n",
       "  </tbody>\n",
       "</table>\n",
       "</div>"
      ],
      "text/plain": [
       "    EmployeeNo                               Division        Qualification  \\\n",
       "0  YAK/S/00001         Commercial Sales and Marketing     MSc, MBA and PhD   \n",
       "1  YAK/S/00002  Customer Support and Field Operations  First Degree or HND   \n",
       "2  YAK/S/00003         Commercial Sales and Marketing  First Degree or HND   \n",
       "3  YAK/S/00004         Commercial Sales and Marketing  First Degree or HND   \n",
       "4  YAK/S/00006               Information and Strategy  First Degree or HND   \n",
       "\n",
       "   Gender   Channel_of_Recruitment  Trainings_Attended  Year_of_birth  \\\n",
       "0  Female  Direct Internal process                   2           1986   \n",
       "1    Male        Agency and others                   2           1991   \n",
       "2    Male  Direct Internal process                   2           1987   \n",
       "3    Male        Agency and others                   3           1982   \n",
       "4    Male  Direct Internal process                   3           1990   \n",
       "\n",
       "   Last_performance_score  Year_of_recruitment  Targets_met  Previous_Award  \\\n",
       "0                    12.5                 2011            1               0   \n",
       "1                    12.5                 2015            0               0   \n",
       "2                     7.5                 2012            0               0   \n",
       "3                     2.5                 2009            0               0   \n",
       "4                     7.5                 2012            0               0   \n",
       "\n",
       "   Training_score_average State_Of_Origin Foreign_schooled Marital_Status  \\\n",
       "0                      41         ANAMBRA               No        Married   \n",
       "1                      52         ANAMBRA              Yes        Married   \n",
       "2                      42         KATSINA              Yes        Married   \n",
       "3                      42           NIGER              Yes         Single   \n",
       "4                      77       AKWA IBOM              Yes        Married   \n",
       "\n",
       "  Past_Disciplinary_Action Previous_IntraDepartmental_Movement  \\\n",
       "0                       No                                  No   \n",
       "1                       No                                  No   \n",
       "2                       No                                  No   \n",
       "3                       No                                  No   \n",
       "4                       No                                  No   \n",
       "\n",
       "  No_of_previous_employers  Promoted_or_Not  \n",
       "0                        0                0  \n",
       "1                        0                0  \n",
       "2                        0                0  \n",
       "3                        1                0  \n",
       "4                        1                0  "
      ]
     },
     "execution_count": 2,
     "metadata": {},
     "output_type": "execute_result"
    }
   ],
   "source": [
    "data = pd.read_csv('Yakub_train.csv')\n",
    "data.head()"
   ]
  },
  {
   "cell_type": "code",
   "execution_count": 3,
   "metadata": {},
   "outputs": [
    {
     "name": "stdout",
     "output_type": "stream",
     "text": [
      "<class 'pandas.core.frame.DataFrame'>\n",
      "RangeIndex: 38312 entries, 0 to 38311\n",
      "Data columns (total 19 columns):\n",
      " #   Column                               Non-Null Count  Dtype  \n",
      "---  ------                               --------------  -----  \n",
      " 0   EmployeeNo                           38312 non-null  object \n",
      " 1   Division                             38312 non-null  object \n",
      " 2   Qualification                        36633 non-null  object \n",
      " 3   Gender                               38312 non-null  object \n",
      " 4   Channel_of_Recruitment               38312 non-null  object \n",
      " 5   Trainings_Attended                   38312 non-null  int64  \n",
      " 6   Year_of_birth                        38312 non-null  int64  \n",
      " 7   Last_performance_score               38312 non-null  float64\n",
      " 8   Year_of_recruitment                  38312 non-null  int64  \n",
      " 9   Targets_met                          38312 non-null  int64  \n",
      " 10  Previous_Award                       38312 non-null  int64  \n",
      " 11  Training_score_average               38312 non-null  int64  \n",
      " 12  State_Of_Origin                      38312 non-null  object \n",
      " 13  Foreign_schooled                     38312 non-null  object \n",
      " 14  Marital_Status                       38312 non-null  object \n",
      " 15  Past_Disciplinary_Action             38312 non-null  object \n",
      " 16  Previous_IntraDepartmental_Movement  38312 non-null  object \n",
      " 17  No_of_previous_employers             38312 non-null  object \n",
      " 18  Promoted_or_Not                      38312 non-null  int64  \n",
      "dtypes: float64(1), int64(7), object(11)\n",
      "memory usage: 5.6+ MB\n"
     ]
    }
   ],
   "source": [
    "data.info()"
   ]
  },
  {
   "cell_type": "code",
   "execution_count": 99,
   "metadata": {},
   "outputs": [
    {
     "data": {
      "text/plain": [
       "41    1873\n",
       "42    1867\n",
       "40    1719\n",
       "43    1634\n",
       "52    1517\n",
       "      ... \n",
       "88      30\n",
       "91      24\n",
       "33      18\n",
       "32       5\n",
       "31       1\n",
       "Name: Training_score_average, Length: 61, dtype: int64"
      ]
     },
     "execution_count": 99,
     "metadata": {},
     "output_type": "execute_result"
    }
   ],
   "source": [
    "data['Training_score_average'].value_counts()#.nunique()"
   ]
  },
  {
   "cell_type": "markdown",
   "metadata": {},
   "source": [
    "***The company has 9 divisions (departments)***"
   ]
  },
  {
   "cell_type": "code",
   "execution_count": 113,
   "metadata": {},
   "outputs": [
    {
     "data": {
      "text/plain": [
       "0    0.915405\n",
       "1    0.084595\n",
       "Name: Promoted_or_Not, dtype: float64"
      ]
     },
     "execution_count": 113,
     "metadata": {},
     "output_type": "execute_result"
    }
   ],
   "source": [
    "data['Promoted_or_Not'].value_counts(normalize=True)"
   ]
  },
  {
   "cell_type": "markdown",
   "metadata": {},
   "source": [
    "##### The ratio between the promoted and not promoted is very high. It looks like it is skewed and biased"
   ]
  },
  {
   "cell_type": "code",
   "execution_count": 6,
   "metadata": {},
   "outputs": [],
   "source": [
    "df_promoted = data[data['Promoted_or_Not']==1]\n",
    "# df_promoted.head()\n",
    "df_npromoted = data[data['Promoted_or_Not']==0]"
   ]
  },
  {
   "cell_type": "code",
   "execution_count": 114,
   "metadata": {},
   "outputs": [],
   "source": [
    "#df_promoted['Training_score_average'].value_counts()"
   ]
  },
  {
   "cell_type": "code",
   "execution_count": 7,
   "metadata": {},
   "outputs": [
    {
     "name": "stdout",
     "output_type": "stream",
     "text": [
      "Male      2223\n",
      "Female    1018\n",
      "Name: Gender, dtype: int64\n",
      "\n",
      "Male      26880\n",
      "Female    11432\n",
      "Name: Gender, dtype: int64\n"
     ]
    }
   ],
   "source": [
    "print(df_promoted['Gender'].value_counts())\n",
    "print('')\n",
    "print(data['Gender'].value_counts())"
   ]
  },
  {
   "cell_type": "markdown",
   "metadata": {},
   "source": [
    "The promotion doesn't seem to be gender biased from the information above.\n",
    "\n",
    "(*The ratio of male to female in the promoted group is similar to the ratio of male to female in the company*)"
   ]
  },
  {
   "cell_type": "code",
   "execution_count": 8,
   "metadata": {},
   "outputs": [
    {
     "data": {
      "text/plain": [
       "Agency and others                  1796\n",
       "Direct Internal process            1347\n",
       "Referral and Special candidates      98\n",
       "Name: Channel_of_Recruitment, dtype: int64"
      ]
     },
     "execution_count": 8,
     "metadata": {},
     "output_type": "execute_result"
    }
   ],
   "source": [
    "df_promoted['Channel_of_Recruitment'].value_counts()"
   ]
  },
  {
   "cell_type": "code",
   "execution_count": 9,
   "metadata": {},
   "outputs": [
    {
     "data": {
      "text/plain": [
       "Agency and others                  21310\n",
       "Direct Internal process            16194\n",
       "Referral and Special candidates      808\n",
       "Name: Channel_of_Recruitment, dtype: int64"
      ]
     },
     "execution_count": 9,
     "metadata": {},
     "output_type": "execute_result"
    }
   ],
   "source": [
    "data['Channel_of_Recruitment'].value_counts()"
   ]
  },
  {
   "cell_type": "markdown",
   "metadata": {},
   "source": [
    "**Number of Staff who met target and were promoted and those not promoted**"
   ]
  },
  {
   "cell_type": "code",
   "execution_count": 77,
   "metadata": {},
   "outputs": [
    {
     "name": "stdout",
     "output_type": "stream",
     "text": [
      "1    0.705955\n",
      "0    0.294045\n",
      "Name: Targets_met, dtype: float64 \n",
      "\n",
      "0    0.679621\n",
      "1    0.320379\n",
      "Name: Targets_met, dtype: float64 \n",
      "\n"
     ]
    }
   ],
   "source": [
    "print(df_promoted['Targets_met'].value_counts(normalize=True), '\\n')\n",
    "print(df_npromoted['Targets_met'].value_counts(normalize=True), '\\n')\n",
    "#print([data['Targets_met']==1]['Promoted_or_Not'].value_counts(normalize=True))"
   ]
  },
  {
   "cell_type": "code",
   "execution_count": 115,
   "metadata": {},
   "outputs": [
    {
     "name": "stderr",
     "output_type": "stream",
     "text": [
      "<ipython-input-115-ebef0e010470>:1: UserWarning: Boolean Series key will be reindexed to match DataFrame index.\n",
      "  merit = data[data['Targets_met']==1][data['Previous_Award']==1][data['Last_performance_score']>=7.5]#[df_promoted['Training_score_average']==df_promoted['Training_score_average'].max()]\n",
      "<ipython-input-115-ebef0e010470>:1: UserWarning: Boolean Series key will be reindexed to match DataFrame index.\n",
      "  merit = data[data['Targets_met']==1][data['Previous_Award']==1][data['Last_performance_score']>=7.5]#[df_promoted['Training_score_average']==df_promoted['Training_score_average'].max()]\n"
     ]
    },
    {
     "data": {
      "text/plain": [
       "(465, 19)"
      ]
     },
     "execution_count": 115,
     "metadata": {},
     "output_type": "execute_result"
    }
   ],
   "source": [
    "merit = data[data['Targets_met']==1][data['Previous_Award']==1][data['Last_performance_score']>=7.5]#[df_promoted['Training_score_average']==df_promoted['Training_score_average'].max()]\n",
    "merit.shape"
   ]
  },
  {
   "cell_type": "code",
   "execution_count": 107,
   "metadata": {},
   "outputs": [
    {
     "name": "stderr",
     "output_type": "stream",
     "text": [
      "<ipython-input-107-34d508ef1e9e>:1: UserWarning: Boolean Series key will be reindexed to match DataFrame index.\n",
      "  p = df_promoted[df_promoted['Targets_met']==1][df_promoted['Previous_Award']==1][df_promoted['Last_performance_score']==12.5]#[df_promoted['Training_score_average']==df_promoted['Training_score_average'].max()]\n",
      "<ipython-input-107-34d508ef1e9e>:1: UserWarning: Boolean Series key will be reindexed to match DataFrame index.\n",
      "  p = df_promoted[df_promoted['Targets_met']==1][df_promoted['Previous_Award']==1][df_promoted['Last_performance_score']==12.5]#[df_promoted['Training_score_average']==df_promoted['Training_score_average'].max()]\n"
     ]
    },
    {
     "data": {
      "text/plain": [
       "0.2349133430778868"
      ]
     },
     "execution_count": 107,
     "metadata": {},
     "output_type": "execute_result"
    }
   ],
   "source": [
    "p = df_promoted[df_promoted['Targets_met']==1][df_promoted['Previous_Award']==1][df_promoted['Last_performance_score']==12.5]#[df_promoted['Training_score_average']==df_promoted['Training_score_average'].max()]\n",
    "(p.shape[0]/data.shape[0])*100"
   ]
  },
  {
   "cell_type": "code",
   "execution_count": 96,
   "metadata": {},
   "outputs": [
    {
     "name": "stderr",
     "output_type": "stream",
     "text": [
      "<ipython-input-96-a21233ccf9ec>:1: UserWarning: Boolean Series key will be reindexed to match DataFrame index.\n",
      "  n_p = df_promoted[df_promoted['Targets_met']==1][df_promoted['Previous_Award']==1][df_promoted['Last_performance_score']==7.5]\n",
      "<ipython-input-96-a21233ccf9ec>:1: UserWarning: Boolean Series key will be reindexed to match DataFrame index.\n",
      "  n_p = df_promoted[df_promoted['Targets_met']==1][df_promoted['Previous_Award']==1][df_promoted['Last_performance_score']==7.5]\n"
     ]
    },
    {
     "data": {
      "text/plain": [
       "0.15138859887241596"
      ]
     },
     "execution_count": 96,
     "metadata": {},
     "output_type": "execute_result"
    }
   ],
   "source": [
    "n_p = df_promoted[df_promoted['Targets_met']==1][df_promoted['Previous_Award']==1][df_promoted['Last_performance_score']==7.5]\n",
    "(n_p.shape[0]/data.shape[0])*100"
   ]
  },
  {
   "cell_type": "code",
   "execution_count": 109,
   "metadata": {},
   "outputs": [
    {
     "name": "stderr",
     "output_type": "stream",
     "text": [
      "<ipython-input-109-7060b755c4e0>:1: UserWarning: Boolean Series key will be reindexed to match DataFrame index.\n",
      "  n = df_npromoted[df_npromoted['Targets_met']==1][df_npromoted['Previous_Award']==1][df_npromoted['Last_performance_score']==7.5]\n",
      "<ipython-input-109-7060b755c4e0>:1: UserWarning: Boolean Series key will be reindexed to match DataFrame index.\n",
      "  n = df_npromoted[df_npromoted['Targets_met']==1][df_npromoted['Previous_Award']==1][df_npromoted['Last_performance_score']==7.5]\n"
     ]
    },
    {
     "data": {
      "text/plain": [
       "0.30016704948841094"
      ]
     },
     "execution_count": 109,
     "metadata": {},
     "output_type": "execute_result"
    }
   ],
   "source": [
    "n = df_npromoted[df_npromoted['Targets_met']==1][df_npromoted['Previous_Award']==1][df_npromoted['Last_performance_score']>=7.5]\n",
    "n.shape[0]"
   ]
  },
  {
   "cell_type": "code",
   "execution_count": 11,
   "metadata": {},
   "outputs": [
    {
     "name": "stdout",
     "output_type": "stream",
     "text": [
      "PROMOTED\n",
      " 2    2717\n",
      "3     411\n",
      "4      92\n",
      "5      17\n",
      "7       2\n",
      "6       2\n",
      "Name: Trainings_Attended, dtype: int64 \n",
      "\n",
      "NOT PROMOTED\n",
      " 2     28264\n",
      "3      5220\n",
      "4      1152\n",
      "5       299\n",
      "6        91\n",
      "7        26\n",
      "8         6\n",
      "10        5\n",
      "11        4\n",
      "9         4\n",
      "Name: Trainings_Attended, dtype: int64\n"
     ]
    }
   ],
   "source": [
    "print('PROMOTED\\n', df_promoted['Trainings_Attended'].value_counts(), '\\n')\n",
    "print('NOT PROMOTED\\n', df_npromoted['Trainings_Attended'].value_counts())"
   ]
  },
  {
   "cell_type": "code",
   "execution_count": 12,
   "metadata": {},
   "outputs": [
    {
     "name": "stdout",
     "output_type": "stream",
     "text": [
      "PROMOTED\n",
      " No     3225\n",
      "Yes      16\n",
      "Name: Past_Disciplinary_Action, dtype: int64 \n",
      "\n",
      "NOT PROMOTED\n",
      " No     34936\n",
      "Yes      135\n",
      "Name: Past_Disciplinary_Action, dtype: int64\n"
     ]
    }
   ],
   "source": [
    "print('PROMOTED\\n', df_promoted['Past_Disciplinary_Action'].value_counts(), '\\n')\n",
    "print('NOT PROMOTED\\n', df_npromoted['Past_Disciplinary_Action'].value_counts())"
   ]
  },
  {
   "cell_type": "code",
   "execution_count": 94,
   "metadata": {},
   "outputs": [
    {
     "name": "stdout",
     "output_type": "stream",
     "text": [
      "PROMOTED\n",
      " 12.5    0.400802\n",
      "7.5     0.288183\n",
      "10.0    0.174329\n",
      "0.0     0.075902\n",
      "5.0     0.042579\n",
      "2.5     0.018204\n",
      "Name: Last_performance_score, dtype: float64 \n",
      "\n",
      "NOT PROMOTED\n",
      " 7.5     0.343845\n",
      "12.5    0.197143\n",
      "10.0    0.181546\n",
      "2.5     0.121639\n",
      "5.0     0.080009\n",
      "0.0     0.075818\n",
      "Name: Last_performance_score, dtype: float64\n"
     ]
    }
   ],
   "source": [
    "print('PROMOTED\\n', df_promoted['Last_performance_score'].value_counts(normalize=True), '\\n')\n",
    "print('NOT PROMOTED\\n', df_npromoted['Last_performance_score'].value_counts(normalize=True))"
   ]
  },
  {
   "cell_type": "code",
   "execution_count": 50,
   "metadata": {},
   "outputs": [
    {
     "data": {
      "text/html": [
       "<div>\n",
       "<style scoped>\n",
       "    .dataframe tbody tr th:only-of-type {\n",
       "        vertical-align: middle;\n",
       "    }\n",
       "\n",
       "    .dataframe tbody tr th {\n",
       "        vertical-align: top;\n",
       "    }\n",
       "\n",
       "    .dataframe thead th {\n",
       "        text-align: right;\n",
       "    }\n",
       "</style>\n",
       "<table border=\"1\" class=\"dataframe\">\n",
       "  <thead>\n",
       "    <tr style=\"text-align: right;\">\n",
       "      <th></th>\n",
       "      <th>EmployeeNo</th>\n",
       "      <th>Division</th>\n",
       "      <th>Qualification</th>\n",
       "      <th>Gender</th>\n",
       "      <th>Channel_of_Recruitment</th>\n",
       "      <th>Trainings_Attended</th>\n",
       "      <th>Year_of_birth</th>\n",
       "      <th>Last_performance_score</th>\n",
       "      <th>Year_of_recruitment</th>\n",
       "      <th>Targets_met</th>\n",
       "      <th>Previous_Award</th>\n",
       "      <th>Training_score_average</th>\n",
       "      <th>State_Of_Origin</th>\n",
       "      <th>Foreign_schooled</th>\n",
       "      <th>Marital_Status</th>\n",
       "      <th>Past_Disciplinary_Action</th>\n",
       "      <th>Previous_IntraDepartmental_Movement</th>\n",
       "      <th>No_of_previous_employers</th>\n",
       "      <th>Promoted_or_Not</th>\n",
       "    </tr>\n",
       "  </thead>\n",
       "  <tbody>\n",
       "    <tr>\n",
       "      <th>26751</th>\n",
       "      <td>YAK/S/38153</td>\n",
       "      <td>Customer Support and Field Operations</td>\n",
       "      <td>First Degree or HND</td>\n",
       "      <td>Male</td>\n",
       "      <td>Agency and others</td>\n",
       "      <td>2</td>\n",
       "      <td>1986</td>\n",
       "      <td>7.5</td>\n",
       "      <td>2012</td>\n",
       "      <td>1</td>\n",
       "      <td>0</td>\n",
       "      <td>91</td>\n",
       "      <td>OGUN</td>\n",
       "      <td>Yes</td>\n",
       "      <td>Single</td>\n",
       "      <td>No</td>\n",
       "      <td>No</td>\n",
       "      <td>0</td>\n",
       "      <td>1</td>\n",
       "    </tr>\n",
       "    <tr>\n",
       "      <th>30788</th>\n",
       "      <td>YAK/S/43973</td>\n",
       "      <td>Information and Strategy</td>\n",
       "      <td>MSc, MBA and PhD</td>\n",
       "      <td>Male</td>\n",
       "      <td>Agency and others</td>\n",
       "      <td>2</td>\n",
       "      <td>1988</td>\n",
       "      <td>10.0</td>\n",
       "      <td>2010</td>\n",
       "      <td>1</td>\n",
       "      <td>0</td>\n",
       "      <td>91</td>\n",
       "      <td>GOMBE</td>\n",
       "      <td>No</td>\n",
       "      <td>Married</td>\n",
       "      <td>No</td>\n",
       "      <td>No</td>\n",
       "      <td>1</td>\n",
       "      <td>1</td>\n",
       "    </tr>\n",
       "    <tr>\n",
       "      <th>27444</th>\n",
       "      <td>YAK/S/39166</td>\n",
       "      <td>Information and Strategy</td>\n",
       "      <td>First Degree or HND</td>\n",
       "      <td>Male</td>\n",
       "      <td>Direct Internal process</td>\n",
       "      <td>2</td>\n",
       "      <td>1991</td>\n",
       "      <td>12.5</td>\n",
       "      <td>2012</td>\n",
       "      <td>1</td>\n",
       "      <td>0</td>\n",
       "      <td>91</td>\n",
       "      <td>FCT</td>\n",
       "      <td>Yes</td>\n",
       "      <td>Married</td>\n",
       "      <td>No</td>\n",
       "      <td>No</td>\n",
       "      <td>2</td>\n",
       "      <td>1</td>\n",
       "    </tr>\n",
       "    <tr>\n",
       "      <th>4619</th>\n",
       "      <td>YAK/S/06503</td>\n",
       "      <td>Information Technology and Solution Support</td>\n",
       "      <td>MSc, MBA and PhD</td>\n",
       "      <td>Male</td>\n",
       "      <td>Agency and others</td>\n",
       "      <td>2</td>\n",
       "      <td>1985</td>\n",
       "      <td>7.5</td>\n",
       "      <td>2010</td>\n",
       "      <td>0</td>\n",
       "      <td>1</td>\n",
       "      <td>91</td>\n",
       "      <td>KADUNA</td>\n",
       "      <td>Yes</td>\n",
       "      <td>Married</td>\n",
       "      <td>No</td>\n",
       "      <td>No</td>\n",
       "      <td>1</td>\n",
       "      <td>1</td>\n",
       "    </tr>\n",
       "    <tr>\n",
       "      <th>22044</th>\n",
       "      <td>YAK/S/31447</td>\n",
       "      <td>Commercial Sales and Marketing</td>\n",
       "      <td>MSc, MBA and PhD</td>\n",
       "      <td>Male</td>\n",
       "      <td>Agency and others</td>\n",
       "      <td>2</td>\n",
       "      <td>1971</td>\n",
       "      <td>10.0</td>\n",
       "      <td>2008</td>\n",
       "      <td>1</td>\n",
       "      <td>0</td>\n",
       "      <td>91</td>\n",
       "      <td>TARABA</td>\n",
       "      <td>Yes</td>\n",
       "      <td>Single</td>\n",
       "      <td>No</td>\n",
       "      <td>No</td>\n",
       "      <td>4</td>\n",
       "      <td>1</td>\n",
       "    </tr>\n",
       "    <tr>\n",
       "      <th>...</th>\n",
       "      <td>...</td>\n",
       "      <td>...</td>\n",
       "      <td>...</td>\n",
       "      <td>...</td>\n",
       "      <td>...</td>\n",
       "      <td>...</td>\n",
       "      <td>...</td>\n",
       "      <td>...</td>\n",
       "      <td>...</td>\n",
       "      <td>...</td>\n",
       "      <td>...</td>\n",
       "      <td>...</td>\n",
       "      <td>...</td>\n",
       "      <td>...</td>\n",
       "      <td>...</td>\n",
       "      <td>...</td>\n",
       "      <td>...</td>\n",
       "      <td>...</td>\n",
       "      <td>...</td>\n",
       "    </tr>\n",
       "    <tr>\n",
       "      <th>11302</th>\n",
       "      <td>YAK/S/16039</td>\n",
       "      <td>Commercial Sales and Marketing</td>\n",
       "      <td>First Degree or HND</td>\n",
       "      <td>Male</td>\n",
       "      <td>Direct Internal process</td>\n",
       "      <td>2</td>\n",
       "      <td>1986</td>\n",
       "      <td>10.0</td>\n",
       "      <td>2012</td>\n",
       "      <td>1</td>\n",
       "      <td>0</td>\n",
       "      <td>35</td>\n",
       "      <td>AKWA IBOM</td>\n",
       "      <td>Yes</td>\n",
       "      <td>Married</td>\n",
       "      <td>No</td>\n",
       "      <td>No</td>\n",
       "      <td>1</td>\n",
       "      <td>1</td>\n",
       "    </tr>\n",
       "    <tr>\n",
       "      <th>27072</th>\n",
       "      <td>YAK/S/38630</td>\n",
       "      <td>Commercial Sales and Marketing</td>\n",
       "      <td>MSc, MBA and PhD</td>\n",
       "      <td>Male</td>\n",
       "      <td>Direct Internal process</td>\n",
       "      <td>2</td>\n",
       "      <td>1986</td>\n",
       "      <td>12.5</td>\n",
       "      <td>2015</td>\n",
       "      <td>1</td>\n",
       "      <td>0</td>\n",
       "      <td>35</td>\n",
       "      <td>LAGOS</td>\n",
       "      <td>Yes</td>\n",
       "      <td>Married</td>\n",
       "      <td>No</td>\n",
       "      <td>No</td>\n",
       "      <td>1</td>\n",
       "      <td>1</td>\n",
       "    </tr>\n",
       "    <tr>\n",
       "      <th>28574</th>\n",
       "      <td>YAK/S/40811</td>\n",
       "      <td>Commercial Sales and Marketing</td>\n",
       "      <td>MSc, MBA and PhD</td>\n",
       "      <td>Male</td>\n",
       "      <td>Agency and others</td>\n",
       "      <td>2</td>\n",
       "      <td>1988</td>\n",
       "      <td>7.5</td>\n",
       "      <td>2011</td>\n",
       "      <td>1</td>\n",
       "      <td>0</td>\n",
       "      <td>34</td>\n",
       "      <td>SOKOTO</td>\n",
       "      <td>Yes</td>\n",
       "      <td>Married</td>\n",
       "      <td>No</td>\n",
       "      <td>No</td>\n",
       "      <td>0</td>\n",
       "      <td>1</td>\n",
       "    </tr>\n",
       "    <tr>\n",
       "      <th>20262</th>\n",
       "      <td>YAK/S/28928</td>\n",
       "      <td>Commercial Sales and Marketing</td>\n",
       "      <td>First Degree or HND</td>\n",
       "      <td>Male</td>\n",
       "      <td>Agency and others</td>\n",
       "      <td>3</td>\n",
       "      <td>1985</td>\n",
       "      <td>10.0</td>\n",
       "      <td>2011</td>\n",
       "      <td>1</td>\n",
       "      <td>0</td>\n",
       "      <td>34</td>\n",
       "      <td>OGUN</td>\n",
       "      <td>Yes</td>\n",
       "      <td>Married</td>\n",
       "      <td>No</td>\n",
       "      <td>No</td>\n",
       "      <td>1</td>\n",
       "      <td>1</td>\n",
       "    </tr>\n",
       "    <tr>\n",
       "      <th>23509</th>\n",
       "      <td>YAK/S/33547</td>\n",
       "      <td>Commercial Sales and Marketing</td>\n",
       "      <td>First Degree or HND</td>\n",
       "      <td>Male</td>\n",
       "      <td>Direct Internal process</td>\n",
       "      <td>2</td>\n",
       "      <td>1994</td>\n",
       "      <td>7.5</td>\n",
       "      <td>2014</td>\n",
       "      <td>1</td>\n",
       "      <td>0</td>\n",
       "      <td>33</td>\n",
       "      <td>DELTA</td>\n",
       "      <td>Yes</td>\n",
       "      <td>Not_Sure</td>\n",
       "      <td>No</td>\n",
       "      <td>No</td>\n",
       "      <td>0</td>\n",
       "      <td>1</td>\n",
       "    </tr>\n",
       "  </tbody>\n",
       "</table>\n",
       "<p>3241 rows × 19 columns</p>\n",
       "</div>"
      ],
      "text/plain": [
       "        EmployeeNo                                     Division  \\\n",
       "26751  YAK/S/38153        Customer Support and Field Operations   \n",
       "30788  YAK/S/43973                     Information and Strategy   \n",
       "27444  YAK/S/39166                     Information and Strategy   \n",
       "4619   YAK/S/06503  Information Technology and Solution Support   \n",
       "22044  YAK/S/31447               Commercial Sales and Marketing   \n",
       "...            ...                                          ...   \n",
       "11302  YAK/S/16039               Commercial Sales and Marketing   \n",
       "27072  YAK/S/38630               Commercial Sales and Marketing   \n",
       "28574  YAK/S/40811               Commercial Sales and Marketing   \n",
       "20262  YAK/S/28928               Commercial Sales and Marketing   \n",
       "23509  YAK/S/33547               Commercial Sales and Marketing   \n",
       "\n",
       "             Qualification Gender   Channel_of_Recruitment  \\\n",
       "26751  First Degree or HND   Male        Agency and others   \n",
       "30788     MSc, MBA and PhD   Male        Agency and others   \n",
       "27444  First Degree or HND   Male  Direct Internal process   \n",
       "4619      MSc, MBA and PhD   Male        Agency and others   \n",
       "22044     MSc, MBA and PhD   Male        Agency and others   \n",
       "...                    ...    ...                      ...   \n",
       "11302  First Degree or HND   Male  Direct Internal process   \n",
       "27072     MSc, MBA and PhD   Male  Direct Internal process   \n",
       "28574     MSc, MBA and PhD   Male        Agency and others   \n",
       "20262  First Degree or HND   Male        Agency and others   \n",
       "23509  First Degree or HND   Male  Direct Internal process   \n",
       "\n",
       "       Trainings_Attended  Year_of_birth  Last_performance_score  \\\n",
       "26751                   2           1986                     7.5   \n",
       "30788                   2           1988                    10.0   \n",
       "27444                   2           1991                    12.5   \n",
       "4619                    2           1985                     7.5   \n",
       "22044                   2           1971                    10.0   \n",
       "...                   ...            ...                     ...   \n",
       "11302                   2           1986                    10.0   \n",
       "27072                   2           1986                    12.5   \n",
       "28574                   2           1988                     7.5   \n",
       "20262                   3           1985                    10.0   \n",
       "23509                   2           1994                     7.5   \n",
       "\n",
       "       Year_of_recruitment  Targets_met  Previous_Award  \\\n",
       "26751                 2012            1               0   \n",
       "30788                 2010            1               0   \n",
       "27444                 2012            1               0   \n",
       "4619                  2010            0               1   \n",
       "22044                 2008            1               0   \n",
       "...                    ...          ...             ...   \n",
       "11302                 2012            1               0   \n",
       "27072                 2015            1               0   \n",
       "28574                 2011            1               0   \n",
       "20262                 2011            1               0   \n",
       "23509                 2014            1               0   \n",
       "\n",
       "       Training_score_average State_Of_Origin Foreign_schooled Marital_Status  \\\n",
       "26751                      91            OGUN              Yes         Single   \n",
       "30788                      91           GOMBE               No        Married   \n",
       "27444                      91             FCT              Yes        Married   \n",
       "4619                       91          KADUNA              Yes        Married   \n",
       "22044                      91          TARABA              Yes         Single   \n",
       "...                       ...             ...              ...            ...   \n",
       "11302                      35       AKWA IBOM              Yes        Married   \n",
       "27072                      35           LAGOS              Yes        Married   \n",
       "28574                      34          SOKOTO              Yes        Married   \n",
       "20262                      34            OGUN              Yes        Married   \n",
       "23509                      33           DELTA              Yes       Not_Sure   \n",
       "\n",
       "      Past_Disciplinary_Action Previous_IntraDepartmental_Movement  \\\n",
       "26751                       No                                  No   \n",
       "30788                       No                                  No   \n",
       "27444                       No                                  No   \n",
       "4619                        No                                  No   \n",
       "22044                       No                                  No   \n",
       "...                        ...                                 ...   \n",
       "11302                       No                                  No   \n",
       "27072                       No                                  No   \n",
       "28574                       No                                  No   \n",
       "20262                       No                                  No   \n",
       "23509                       No                                  No   \n",
       "\n",
       "      No_of_previous_employers  Promoted_or_Not  \n",
       "26751                        0                1  \n",
       "30788                        1                1  \n",
       "27444                        2                1  \n",
       "4619                         1                1  \n",
       "22044                        4                1  \n",
       "...                        ...              ...  \n",
       "11302                        1                1  \n",
       "27072                        1                1  \n",
       "28574                        0                1  \n",
       "20262                        1                1  \n",
       "23509                        0                1  \n",
       "\n",
       "[3241 rows x 19 columns]"
      ]
     },
     "execution_count": 50,
     "metadata": {},
     "output_type": "execute_result"
    }
   ],
   "source": [
    "df_promoted.sort_values('Training_score_average', ascending=False)"
   ]
  },
  {
   "cell_type": "code",
   "execution_count": 15,
   "metadata": {},
   "outputs": [
    {
     "data": {
      "text/plain": [
       "88"
      ]
     },
     "execution_count": 15,
     "metadata": {},
     "output_type": "execute_result"
    }
   ],
   "source": [
    "df_npromoted['Training_score_average'].max()"
   ]
  },
  {
   "cell_type": "code",
   "execution_count": 16,
   "metadata": {},
   "outputs": [],
   "source": [
    "# print('PROMOTED\\n', df_promoted['Training_score_average'].value_counts(), '\\n')\n",
    "# print('NOT PROMOTED\\n', df_npromoted['Training_score_average'].value_counts())"
   ]
  },
  {
   "cell_type": "code",
   "execution_count": 17,
   "metadata": {},
   "outputs": [],
   "source": [
    "#df_promoted.corr()"
   ]
  },
  {
   "cell_type": "code",
   "execution_count": 18,
   "metadata": {},
   "outputs": [
    {
     "name": "stdout",
     "output_type": "stream",
     "text": [
      "Percentage of the staff that are Foreign Schooled: 91.34%\n",
      "Percentage of Foreign Schooled promoted staff amongst the promoted staff: 91.64%\n"
     ]
    }
   ],
   "source": [
    "foreign_percent = ((data['Foreign_schooled']=='Yes').sum() /data['Foreign_schooled'].count()) * 100\n",
    "foreign_per_pro = ((df_promoted['Foreign_schooled']=='Yes').sum() /df_promoted['Foreign_schooled'].count()) * 100\n",
    "foreign_promoted_per = ((df_promoted['Foreign_schooled']=='Yes').sum() /data['Promoted_or_Not'].count()) * 100\n",
    "print(f\"Percentage of the staff that are Foreign Schooled: {round(foreign_percent, 2)}%\")\n",
    "print(f\"Percentage of Foreign Schooled promoted staff amongst the promoted staff: {round(foreign_per_pro, 2)}%\")\n",
    "#print(f\"Percentage of the Promoted staff that are Foreign Schooled: {round(foreign_promoted_per, 2)}%\")"
   ]
  },
  {
   "cell_type": "code",
   "execution_count": null,
   "metadata": {},
   "outputs": [],
   "source": []
  },
  {
   "cell_type": "code",
   "execution_count": 19,
   "metadata": {},
   "outputs": [
    {
     "data": {
      "text/plain": [
       "Yes    34995\n",
       "No      3317\n",
       "Name: Foreign_schooled, dtype: int64"
      ]
     },
     "execution_count": 19,
     "metadata": {},
     "output_type": "execute_result"
    }
   ],
   "source": [
    "data['Foreign_schooled'].value_counts()"
   ]
  },
  {
   "cell_type": "code",
   "execution_count": 38,
   "metadata": {},
   "outputs": [
    {
     "data": {
      "text/html": [
       "<div>\n",
       "<style scoped>\n",
       "    .dataframe tbody tr th:only-of-type {\n",
       "        vertical-align: middle;\n",
       "    }\n",
       "\n",
       "    .dataframe tbody tr th {\n",
       "        vertical-align: top;\n",
       "    }\n",
       "\n",
       "    .dataframe thead th {\n",
       "        text-align: right;\n",
       "    }\n",
       "</style>\n",
       "<table border=\"1\" class=\"dataframe\">\n",
       "  <thead>\n",
       "    <tr style=\"text-align: right;\">\n",
       "      <th></th>\n",
       "      <th>EmployeeNo</th>\n",
       "      <th>Division</th>\n",
       "      <th>Qualification</th>\n",
       "      <th>Gender</th>\n",
       "      <th>Channel_of_Recruitment</th>\n",
       "      <th>Trainings_Attended</th>\n",
       "      <th>Year_of_birth</th>\n",
       "      <th>Last_performance_score</th>\n",
       "      <th>Year_of_recruitment</th>\n",
       "      <th>Targets_met</th>\n",
       "      <th>Previous_Award</th>\n",
       "      <th>Training_score_average</th>\n",
       "      <th>State_Of_Origin</th>\n",
       "      <th>Foreign_schooled</th>\n",
       "      <th>Marital_Status</th>\n",
       "      <th>Past_Disciplinary_Action</th>\n",
       "      <th>Previous_IntraDepartmental_Movement</th>\n",
       "      <th>No_of_previous_employers</th>\n",
       "      <th>Promoted_or_Not</th>\n",
       "    </tr>\n",
       "  </thead>\n",
       "  <tbody>\n",
       "    <tr>\n",
       "      <th>0</th>\n",
       "      <td>YAK/S/00001</td>\n",
       "      <td>Commercial Sales and Marketing</td>\n",
       "      <td>MSc, MBA and PhD</td>\n",
       "      <td>Female</td>\n",
       "      <td>Direct Internal process</td>\n",
       "      <td>2</td>\n",
       "      <td>1986</td>\n",
       "      <td>12.5</td>\n",
       "      <td>2011</td>\n",
       "      <td>1</td>\n",
       "      <td>0</td>\n",
       "      <td>41</td>\n",
       "      <td>ANAMBRA</td>\n",
       "      <td>No</td>\n",
       "      <td>Married</td>\n",
       "      <td>No</td>\n",
       "      <td>No</td>\n",
       "      <td>0</td>\n",
       "      <td>0</td>\n",
       "    </tr>\n",
       "    <tr>\n",
       "      <th>20002</th>\n",
       "      <td>YAK/S/28543</td>\n",
       "      <td>Sourcing and Purchasing</td>\n",
       "      <td>MSc, MBA and PhD</td>\n",
       "      <td>Female</td>\n",
       "      <td>Direct Internal process</td>\n",
       "      <td>2</td>\n",
       "      <td>1989</td>\n",
       "      <td>12.5</td>\n",
       "      <td>2013</td>\n",
       "      <td>1</td>\n",
       "      <td>0</td>\n",
       "      <td>57</td>\n",
       "      <td>LAGOS</td>\n",
       "      <td>Yes</td>\n",
       "      <td>Married</td>\n",
       "      <td>No</td>\n",
       "      <td>No</td>\n",
       "      <td>0</td>\n",
       "      <td>1</td>\n",
       "    </tr>\n",
       "    <tr>\n",
       "      <th>20100</th>\n",
       "      <td>YAK/S/28692</td>\n",
       "      <td>Sourcing and Purchasing</td>\n",
       "      <td>MSc, MBA and PhD</td>\n",
       "      <td>Female</td>\n",
       "      <td>Agency and others</td>\n",
       "      <td>2</td>\n",
       "      <td>1978</td>\n",
       "      <td>12.5</td>\n",
       "      <td>2009</td>\n",
       "      <td>1</td>\n",
       "      <td>0</td>\n",
       "      <td>63</td>\n",
       "      <td>OGUN</td>\n",
       "      <td>Yes</td>\n",
       "      <td>Married</td>\n",
       "      <td>No</td>\n",
       "      <td>No</td>\n",
       "      <td>1</td>\n",
       "      <td>0</td>\n",
       "    </tr>\n",
       "    <tr>\n",
       "      <th>20093</th>\n",
       "      <td>YAK/S/28679</td>\n",
       "      <td>Customer Support and Field Operations</td>\n",
       "      <td>First Degree or HND</td>\n",
       "      <td>Female</td>\n",
       "      <td>Direct Internal process</td>\n",
       "      <td>3</td>\n",
       "      <td>1983</td>\n",
       "      <td>12.5</td>\n",
       "      <td>2011</td>\n",
       "      <td>1</td>\n",
       "      <td>0</td>\n",
       "      <td>52</td>\n",
       "      <td>ANAMBRA</td>\n",
       "      <td>Yes</td>\n",
       "      <td>Married</td>\n",
       "      <td>No</td>\n",
       "      <td>No</td>\n",
       "      <td>0</td>\n",
       "      <td>0</td>\n",
       "    </tr>\n",
       "    <tr>\n",
       "      <th>20075</th>\n",
       "      <td>YAK/S/28649</td>\n",
       "      <td>Commercial Sales and Marketing</td>\n",
       "      <td>First Degree or HND</td>\n",
       "      <td>Male</td>\n",
       "      <td>Agency and others</td>\n",
       "      <td>3</td>\n",
       "      <td>1976</td>\n",
       "      <td>12.5</td>\n",
       "      <td>2014</td>\n",
       "      <td>1</td>\n",
       "      <td>1</td>\n",
       "      <td>43</td>\n",
       "      <td>ANAMBRA</td>\n",
       "      <td>Yes</td>\n",
       "      <td>Married</td>\n",
       "      <td>No</td>\n",
       "      <td>No</td>\n",
       "      <td>2</td>\n",
       "      <td>0</td>\n",
       "    </tr>\n",
       "  </tbody>\n",
       "</table>\n",
       "</div>"
      ],
      "text/plain": [
       "        EmployeeNo                               Division  \\\n",
       "0      YAK/S/00001         Commercial Sales and Marketing   \n",
       "20002  YAK/S/28543                Sourcing and Purchasing   \n",
       "20100  YAK/S/28692                Sourcing and Purchasing   \n",
       "20093  YAK/S/28679  Customer Support and Field Operations   \n",
       "20075  YAK/S/28649         Commercial Sales and Marketing   \n",
       "\n",
       "             Qualification  Gender   Channel_of_Recruitment  \\\n",
       "0         MSc, MBA and PhD  Female  Direct Internal process   \n",
       "20002     MSc, MBA and PhD  Female  Direct Internal process   \n",
       "20100     MSc, MBA and PhD  Female        Agency and others   \n",
       "20093  First Degree or HND  Female  Direct Internal process   \n",
       "20075  First Degree or HND    Male        Agency and others   \n",
       "\n",
       "       Trainings_Attended  Year_of_birth  Last_performance_score  \\\n",
       "0                       2           1986                    12.5   \n",
       "20002                   2           1989                    12.5   \n",
       "20100                   2           1978                    12.5   \n",
       "20093                   3           1983                    12.5   \n",
       "20075                   3           1976                    12.5   \n",
       "\n",
       "       Year_of_recruitment  Targets_met  Previous_Award  \\\n",
       "0                     2011            1               0   \n",
       "20002                 2013            1               0   \n",
       "20100                 2009            1               0   \n",
       "20093                 2011            1               0   \n",
       "20075                 2014            1               1   \n",
       "\n",
       "       Training_score_average State_Of_Origin Foreign_schooled Marital_Status  \\\n",
       "0                          41         ANAMBRA               No        Married   \n",
       "20002                      57           LAGOS              Yes        Married   \n",
       "20100                      63            OGUN              Yes        Married   \n",
       "20093                      52         ANAMBRA              Yes        Married   \n",
       "20075                      43         ANAMBRA              Yes        Married   \n",
       "\n",
       "      Past_Disciplinary_Action Previous_IntraDepartmental_Movement  \\\n",
       "0                           No                                  No   \n",
       "20002                       No                                  No   \n",
       "20100                       No                                  No   \n",
       "20093                       No                                  No   \n",
       "20075                       No                                  No   \n",
       "\n",
       "      No_of_previous_employers  Promoted_or_Not  \n",
       "0                            0                0  \n",
       "20002                        0                1  \n",
       "20100                        1                0  \n",
       "20093                        0                0  \n",
       "20075                        2                0  "
      ]
     },
     "execution_count": 38,
     "metadata": {},
     "output_type": "execute_result"
    }
   ],
   "source": [
    "df_target = data[data['Targets_met']==1]\n",
    "df_ntarget = data[data['Targets_met']==0]\n",
    "df_target.sort_values(by='Last_performance_score', ascending=False).head()"
   ]
  },
  {
   "cell_type": "markdown",
   "metadata": {},
   "source": [
    "## Value count of those that met target, had the max performance score and were promoted or not"
   ]
  },
  {
   "cell_type": "code",
   "execution_count": 45,
   "metadata": {},
   "outputs": [
    {
     "data": {
      "text/plain": [
       "12.5    0.388790\n",
       "7.5     0.246747\n",
       "10.0    0.208592\n",
       "0.0     0.075052\n",
       "5.0     0.040521\n",
       "2.5     0.040299\n",
       "Name: Last_performance_score, dtype: float64"
      ]
     },
     "execution_count": 45,
     "metadata": {},
     "output_type": "execute_result"
    }
   ],
   "source": [
    "df_target['Last_performance_score'].value_counts(normalize=True)"
   ]
  },
  {
   "cell_type": "code",
   "execution_count": 57,
   "metadata": {},
   "outputs": [
    {
     "data": {
      "text/plain": [
       "0    0.830354\n",
       "1    0.169646\n",
       "Name: Promoted_or_Not, dtype: float64"
      ]
     },
     "execution_count": 57,
     "metadata": {},
     "output_type": "execute_result"
    }
   ],
   "source": [
    "df_target[df_target['Last_performance_score']==12.5]['Promoted_or_Not'].value_counts(normalize=True)"
   ]
  },
  {
   "cell_type": "markdown",
   "metadata": {},
   "source": [
    "Only 17% of those with the performance score were promoted"
   ]
  },
  {
   "cell_type": "code",
   "execution_count": 72,
   "metadata": {},
   "outputs": [
    {
     "data": {
      "text/plain": [
       "0    0.841836\n",
       "1    0.158164\n",
       "Name: Promoted_or_Not, dtype: float64"
      ]
     },
     "execution_count": 72,
     "metadata": {},
     "output_type": "execute_result"
    }
   ],
   "source": [
    "data[data['Last_performance_score']==12.5]['Promoted_or_Not'].value_counts(normalize=True)"
   ]
  },
  {
   "cell_type": "code",
   "execution_count": null,
   "metadata": {},
   "outputs": [],
   "source": [
    "#### 15% of the staff with "
   ]
  },
  {
   "cell_type": "code",
   "execution_count": 60,
   "metadata": {},
   "outputs": [
    {
     "data": {
      "text/plain": [
       "0    0.834483\n",
       "1    0.165517\n",
       "Name: Promoted_or_Not, dtype: float64"
      ]
     },
     "execution_count": 60,
     "metadata": {},
     "output_type": "execute_result"
    }
   ],
   "source": [
    "df_target[df_target['Last_performance_score']==0.0]['Promoted_or_Not'].value_counts(normalize=True)"
   ]
  },
  {
   "cell_type": "code",
   "execution_count": 112,
   "metadata": {},
   "outputs": [
    {
     "name": "stderr",
     "output_type": "stream",
     "text": [
      "<ipython-input-112-2541ea61b084>:2: UserWarning: Boolean Series key will be reindexed to match DataFrame index.\n",
      "  d = df_target[df_target['Last_performance_score']==0.0][df_target['Promoted_or_Not']==1]\n"
     ]
    },
    {
     "data": {
      "text/plain": [
       "0    0.904762\n",
       "1    0.095238\n",
       "Name: Previous_Award, dtype: float64"
      ]
     },
     "execution_count": 112,
     "metadata": {},
     "output_type": "execute_result"
    }
   ],
   "source": [
    "#Isolating those with the minimum performance score and were still promoted\n",
    "d = df_target[df_target['Last_performance_score']==0.0][df_target['Promoted_or_Not']==1]\n",
    "d['Previous_Award'].value_counts(normalize=True)"
   ]
  },
  {
   "cell_type": "markdown",
   "metadata": {},
   "source": [
    "#### 16.5% of the staff that met target had a poor performance score, 90% of this number had no previous award and were still promoted"
   ]
  },
  {
   "cell_type": "code",
   "execution_count": null,
   "metadata": {},
   "outputs": [],
   "source": []
  },
  {
   "cell_type": "code",
   "execution_count": 63,
   "metadata": {},
   "outputs": [
    {
     "data": {
      "text/plain": [
       "2016    4916\n",
       "2015    4757\n",
       "2017    4656\n",
       "2014    4101\n",
       "2012    3909\n",
       "2013    3314\n",
       "2018    3194\n",
       "2011    2011\n",
       "2010    1865\n",
       "2009    1497\n",
       "2008     619\n",
       "2007     570\n",
       "2006     472\n",
       "2004     422\n",
       "2003     394\n",
       "2005     376\n",
       "2002     293\n",
       "2001     269\n",
       "2000     230\n",
       "1999      90\n",
       "1998      53\n",
       "1995      51\n",
       "1996      46\n",
       "1997      38\n",
       "1994      35\n",
       "1993      27\n",
       "1990      22\n",
       "1991      21\n",
       "1992      20\n",
       "1988      13\n",
       "1989      11\n",
       "1987       8\n",
       "1986       7\n",
       "1985       4\n",
       "1982       1\n",
       "Name: Year_of_recruitment, dtype: int64"
      ]
     },
     "execution_count": 63,
     "metadata": {},
     "output_type": "execute_result"
    }
   ],
   "source": [
    "data['Year_of_recruitment'].value_counts()"
   ]
  },
  {
   "cell_type": "code",
   "execution_count": null,
   "metadata": {},
   "outputs": [],
   "source": []
  },
  {
   "cell_type": "code",
   "execution_count": null,
   "metadata": {},
   "outputs": [],
   "source": []
  },
  {
   "cell_type": "code",
   "execution_count": null,
   "metadata": {},
   "outputs": [],
   "source": []
  },
  {
   "cell_type": "code",
   "execution_count": null,
   "metadata": {},
   "outputs": [],
   "source": []
  },
  {
   "cell_type": "code",
   "execution_count": null,
   "metadata": {},
   "outputs": [],
   "source": []
  },
  {
   "cell_type": "code",
   "execution_count": null,
   "metadata": {},
   "outputs": [],
   "source": []
  },
  {
   "cell_type": "code",
   "execution_count": 40,
   "metadata": {},
   "outputs": [
    {
     "name": "stdout",
     "output_type": "stream",
     "text": [
      "Checking Performance score of those that met Target\n",
      "\n",
      "Max Last Performance score: 12.5 \n",
      "\n",
      "Min Last Performace Score 0.0 \n",
      "\n",
      "Mean of Last Performance Score 9.09974859509021\n"
     ]
    }
   ],
   "source": [
    "print(\"Checking Performance score of those that met Target\\n\")\n",
    "print('Max Last Performance score:', df_target['Last_performance_score'].max(), '\\n')\n",
    "print('Min Last Performace Score', df_target['Last_performance_score'].min(), '\\n')\n",
    "print('Mean of Last Performance Score', df_target['Last_performance_score'].mean())"
   ]
  },
  {
   "cell_type": "code",
   "execution_count": 46,
   "metadata": {},
   "outputs": [
    {
     "data": {
      "text/plain": [
       "7.5     0.389543\n",
       "10.0    0.165846\n",
       "2.5     0.152493\n",
       "12.5    0.119211\n",
       "5.0     0.096660\n",
       "0.0     0.076247\n",
       "Name: Last_performance_score, dtype: float64"
      ]
     },
     "execution_count": 46,
     "metadata": {},
     "output_type": "execute_result"
    }
   ],
   "source": [
    "df_ntarget['Last_performance_score'].value_counts(normalize=True)"
   ]
  },
  {
   "cell_type": "code",
   "execution_count": 41,
   "metadata": {},
   "outputs": [
    {
     "name": "stdout",
     "output_type": "stream",
     "text": [
      "Checking Performance score of those that didn't met Target\n",
      "\n",
      "Max Last Performance score: 12.5 \n",
      "\n",
      "Min Last Performace Score 0.0 \n",
      "\n",
      "Mean of Last Performance Score 6.934706309504599\n"
     ]
    }
   ],
   "source": [
    "print(\"Checking Performance score of those that didn't met Target\\n\")\n",
    "print('Max Last Performance score:', df_ntarget['Last_performance_score'].max(), '\\n')\n",
    "print('Min Last Performace Score', df_ntarget['Last_performance_score'].min(), '\\n')\n",
    "print('Mean of Last Performance Score', df_ntarget['Last_performance_score'].mean())"
   ]
  },
  {
   "cell_type": "code",
   "execution_count": 42,
   "metadata": {},
   "outputs": [
    {
     "data": {
      "text/html": [
       "<div>\n",
       "<style scoped>\n",
       "    .dataframe tbody tr th:only-of-type {\n",
       "        vertical-align: middle;\n",
       "    }\n",
       "\n",
       "    .dataframe tbody tr th {\n",
       "        vertical-align: top;\n",
       "    }\n",
       "\n",
       "    .dataframe thead th {\n",
       "        text-align: right;\n",
       "    }\n",
       "</style>\n",
       "<table border=\"1\" class=\"dataframe\">\n",
       "  <thead>\n",
       "    <tr style=\"text-align: right;\">\n",
       "      <th></th>\n",
       "      <th>EmployeeNo</th>\n",
       "      <th>Division</th>\n",
       "      <th>Qualification</th>\n",
       "      <th>Gender</th>\n",
       "      <th>Channel_of_Recruitment</th>\n",
       "      <th>Trainings_Attended</th>\n",
       "      <th>Year_of_birth</th>\n",
       "      <th>Last_performance_score</th>\n",
       "      <th>Year_of_recruitment</th>\n",
       "      <th>Targets_met</th>\n",
       "      <th>Previous_Award</th>\n",
       "      <th>Training_score_average</th>\n",
       "      <th>State_Of_Origin</th>\n",
       "      <th>Foreign_schooled</th>\n",
       "      <th>Marital_Status</th>\n",
       "      <th>Past_Disciplinary_Action</th>\n",
       "      <th>Previous_IntraDepartmental_Movement</th>\n",
       "      <th>No_of_previous_employers</th>\n",
       "      <th>Promoted_or_Not</th>\n",
       "    </tr>\n",
       "  </thead>\n",
       "  <tbody>\n",
       "    <tr>\n",
       "      <th>1</th>\n",
       "      <td>YAK/S/00002</td>\n",
       "      <td>Customer Support and Field Operations</td>\n",
       "      <td>First Degree or HND</td>\n",
       "      <td>Male</td>\n",
       "      <td>Agency and others</td>\n",
       "      <td>2</td>\n",
       "      <td>1991</td>\n",
       "      <td>12.5</td>\n",
       "      <td>2015</td>\n",
       "      <td>0</td>\n",
       "      <td>0</td>\n",
       "      <td>52</td>\n",
       "      <td>ANAMBRA</td>\n",
       "      <td>Yes</td>\n",
       "      <td>Married</td>\n",
       "      <td>No</td>\n",
       "      <td>No</td>\n",
       "      <td>0</td>\n",
       "      <td>0</td>\n",
       "    </tr>\n",
       "    <tr>\n",
       "      <th>27808</th>\n",
       "      <td>YAK/S/39683</td>\n",
       "      <td>Customer Support and Field Operations</td>\n",
       "      <td>First Degree or HND</td>\n",
       "      <td>Female</td>\n",
       "      <td>Agency and others</td>\n",
       "      <td>2</td>\n",
       "      <td>1966</td>\n",
       "      <td>12.5</td>\n",
       "      <td>2007</td>\n",
       "      <td>0</td>\n",
       "      <td>0</td>\n",
       "      <td>57</td>\n",
       "      <td>RIVERS</td>\n",
       "      <td>Yes</td>\n",
       "      <td>Married</td>\n",
       "      <td>No</td>\n",
       "      <td>No</td>\n",
       "      <td>1</td>\n",
       "      <td>0</td>\n",
       "    </tr>\n",
       "    <tr>\n",
       "      <th>34640</th>\n",
       "      <td>YAK/S/49478</td>\n",
       "      <td>Customer Support and Field Operations</td>\n",
       "      <td>MSc, MBA and PhD</td>\n",
       "      <td>Male</td>\n",
       "      <td>Agency and others</td>\n",
       "      <td>2</td>\n",
       "      <td>1984</td>\n",
       "      <td>12.5</td>\n",
       "      <td>2010</td>\n",
       "      <td>0</td>\n",
       "      <td>0</td>\n",
       "      <td>62</td>\n",
       "      <td>BAYELSA</td>\n",
       "      <td>Yes</td>\n",
       "      <td>Married</td>\n",
       "      <td>No</td>\n",
       "      <td>No</td>\n",
       "      <td>0</td>\n",
       "      <td>1</td>\n",
       "    </tr>\n",
       "    <tr>\n",
       "      <th>3516</th>\n",
       "      <td>YAK/S/04953</td>\n",
       "      <td>Customer Support and Field Operations</td>\n",
       "      <td>MSc, MBA and PhD</td>\n",
       "      <td>Male</td>\n",
       "      <td>Direct Internal process</td>\n",
       "      <td>2</td>\n",
       "      <td>1988</td>\n",
       "      <td>12.5</td>\n",
       "      <td>2013</td>\n",
       "      <td>0</td>\n",
       "      <td>0</td>\n",
       "      <td>54</td>\n",
       "      <td>KANO</td>\n",
       "      <td>Yes</td>\n",
       "      <td>Married</td>\n",
       "      <td>No</td>\n",
       "      <td>No</td>\n",
       "      <td>0</td>\n",
       "      <td>0</td>\n",
       "    </tr>\n",
       "    <tr>\n",
       "      <th>14121</th>\n",
       "      <td>YAK/S/20095</td>\n",
       "      <td>Customer Support and Field Operations</td>\n",
       "      <td>First Degree or HND</td>\n",
       "      <td>Male</td>\n",
       "      <td>Agency and others</td>\n",
       "      <td>2</td>\n",
       "      <td>1989</td>\n",
       "      <td>12.5</td>\n",
       "      <td>2012</td>\n",
       "      <td>0</td>\n",
       "      <td>0</td>\n",
       "      <td>51</td>\n",
       "      <td>AKWA IBOM</td>\n",
       "      <td>Yes</td>\n",
       "      <td>Married</td>\n",
       "      <td>No</td>\n",
       "      <td>No</td>\n",
       "      <td>0</td>\n",
       "      <td>0</td>\n",
       "    </tr>\n",
       "  </tbody>\n",
       "</table>\n",
       "</div>"
      ],
      "text/plain": [
       "        EmployeeNo                               Division  \\\n",
       "1      YAK/S/00002  Customer Support and Field Operations   \n",
       "27808  YAK/S/39683  Customer Support and Field Operations   \n",
       "34640  YAK/S/49478  Customer Support and Field Operations   \n",
       "3516   YAK/S/04953  Customer Support and Field Operations   \n",
       "14121  YAK/S/20095  Customer Support and Field Operations   \n",
       "\n",
       "             Qualification  Gender   Channel_of_Recruitment  \\\n",
       "1      First Degree or HND    Male        Agency and others   \n",
       "27808  First Degree or HND  Female        Agency and others   \n",
       "34640     MSc, MBA and PhD    Male        Agency and others   \n",
       "3516      MSc, MBA and PhD    Male  Direct Internal process   \n",
       "14121  First Degree or HND    Male        Agency and others   \n",
       "\n",
       "       Trainings_Attended  Year_of_birth  Last_performance_score  \\\n",
       "1                       2           1991                    12.5   \n",
       "27808                   2           1966                    12.5   \n",
       "34640                   2           1984                    12.5   \n",
       "3516                    2           1988                    12.5   \n",
       "14121                   2           1989                    12.5   \n",
       "\n",
       "       Year_of_recruitment  Targets_met  Previous_Award  \\\n",
       "1                     2015            0               0   \n",
       "27808                 2007            0               0   \n",
       "34640                 2010            0               0   \n",
       "3516                  2013            0               0   \n",
       "14121                 2012            0               0   \n",
       "\n",
       "       Training_score_average State_Of_Origin Foreign_schooled Marital_Status  \\\n",
       "1                          52         ANAMBRA              Yes        Married   \n",
       "27808                      57          RIVERS              Yes        Married   \n",
       "34640                      62         BAYELSA              Yes        Married   \n",
       "3516                       54            KANO              Yes        Married   \n",
       "14121                      51       AKWA IBOM              Yes        Married   \n",
       "\n",
       "      Past_Disciplinary_Action Previous_IntraDepartmental_Movement  \\\n",
       "1                           No                                  No   \n",
       "27808                       No                                  No   \n",
       "34640                       No                                  No   \n",
       "3516                        No                                  No   \n",
       "14121                       No                                  No   \n",
       "\n",
       "      No_of_previous_employers  Promoted_or_Not  \n",
       "1                            0                0  \n",
       "27808                        1                0  \n",
       "34640                        0                1  \n",
       "3516                         0                0  \n",
       "14121                        0                0  "
      ]
     },
     "execution_count": 42,
     "metadata": {},
     "output_type": "execute_result"
    }
   ],
   "source": [
    "df_ntarget.sort_values(by='Last_performance_score', ascending=False).head()"
   ]
  },
  {
   "cell_type": "code",
   "execution_count": 37,
   "metadata": {},
   "outputs": [
    {
     "data": {
      "text/plain": [
       "6.934706309504599"
      ]
     },
     "execution_count": 37,
     "metadata": {},
     "output_type": "execute_result"
    }
   ],
   "source": [
    "df_ntarget['Last_performance_score'].mean()"
   ]
  },
  {
   "cell_type": "code",
   "execution_count": null,
   "metadata": {},
   "outputs": [],
   "source": []
  }
 ],
 "metadata": {
  "kernelspec": {
   "display_name": "Python 3",
   "language": "python",
   "name": "python3"
  },
  "language_info": {
   "codemirror_mode": {
    "name": "ipython",
    "version": 3
   },
   "file_extension": ".py",
   "mimetype": "text/x-python",
   "name": "python",
   "nbconvert_exporter": "python",
   "pygments_lexer": "ipython3",
   "version": "3.8.5"
  }
 },
 "nbformat": 4,
 "nbformat_minor": 4
}
